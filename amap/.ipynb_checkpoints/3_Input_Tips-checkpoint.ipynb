{
 "cells": [
  {
   "cell_type": "code",
   "execution_count": 1,
   "metadata": {},
   "outputs": [],
   "source": [
    "import requests\n",
    "import json\n",
    "import time\n",
    "import csv"
   ]
  },
  {
   "cell_type": "code",
   "execution_count": 2,
   "metadata": {},
   "outputs": [],
   "source": [
    "k = open(\"../amap_key.txt\", \"r\") \n",
    "amap_key = k.read()\n",
    "ad_code = 310000\n",
    "keywords = \"龙之梦\"\n",
    "poi_code = 110202\n",
    "location = \"(121.255342,31.380699)\"\n",
    "\n",
    "# 上海市\t310000\t021\n",
    "# 上海市市辖区\t310100\t021\n",
    "# 黄浦区\t310101\t021\n",
    "# 徐汇区\t310104\t021\n",
    "# 长宁区\t310105\t021\n",
    "# 静安区\t310106\t021\n",
    "# 普陀区\t310107\t021\n",
    "# 虹口区\t310109\t021\n",
    "# 杨浦区\t310110\t021\n",
    "# 闵行区\t310112\t021\n",
    "# 宝山区\t310113\t021\n",
    "# 嘉定区\t310114\t021\n",
    "# 浦东新区\t310115\t021\n",
    "# 金山区\t310116\t021\n",
    "# 松江区\t310117\t021\n",
    "# 青浦区\t310118\t021\n",
    "# 奉贤区\t310120\t021\n",
    "# 崇明区\t310151\t021\n",
    "\n",
    "# f_name = '1_ad{}_poi{}.csv'.format(ad_code, poi_code)\n",
    "# f = open(f_name,'a+',encoding='utf-8',newline='')\n",
    "# writer = csv.writer(f)\n",
    "# writer.writerow(['poi_id','parent','name','typ','typ1','typ2','typ3','business_type','address','lon','lat','tel','postcode',\n",
    "#              'website','pcode','pname','citycode','cityname','adcode','adname','entr_location','exit_location',\n",
    "#              'alias','business_area','parking_type','tag','business_area','rating','cost'])\n",
    "\n",
    "url = 'https://restapi.amap.com/v3/assistant/inputtips?city={}&key={}&keywords={}&poi_code={}'.format(ad_code, amap_key, keywords, poi_code)"
   ]
  },
  {
   "cell_type": "code",
   "execution_count": 4,
   "metadata": {},
   "outputs": [],
   "source": [
    "from pandas.io.json import json_normalize #package for flattening json in pandas df\n",
    "import pandas as pd\n",
    "\n",
    "res = requests.get(url)\n",
    "json_data = json.loads(res.text)"
   ]
  },
  {
   "cell_type": "code",
   "execution_count": 7,
   "metadata": {},
   "outputs": [
    {
     "name": "stdout",
     "output_type": "stream",
     "text": [
      "{'id': 'B001552NYO', 'name': '龙之梦购物中心', 'district': '上海市长宁区', 'adcode': '310105', 'location': '121.416659,31.219129', 'address': '长宁路1018号', 'typecode': '060101', 'city': []}\n",
      "{'id': 'B00155Q7EO', 'name': '凯德龙之梦(莘庄店)', 'district': '上海市闵行区', 'adcode': '310112', 'location': '121.37839,31.108161', 'address': '沪闵路6088号', 'typecode': '060101', 'city': []}\n",
      "{'id': 'B001535294', 'name': '上海龙之梦大酒店', 'district': '上海市长宁区', 'adcode': '310105', 'location': '121.430375,31.210844', 'address': '延安西路1116号', 'typecode': '100102', 'city': []}\n",
      "{'id': 'B00156EPQ2', 'name': '凯德龙之梦', 'district': '上海市虹口区', 'adcode': '310109', 'location': '121.477938,31.270924', 'address': '西江湾路388号', 'typecode': '120201', 'city': []}\n",
      "{'id': 'B00156EIR7', 'name': '凯德龙之梦购物中心(虹口店)', 'district': '上海市虹口区', 'adcode': '310109', 'location': '121.47795,31.270926', 'address': '西江湾路388号', 'typecode': '060101', 'city': []}\n",
      "{'id': 'B00155GG7H', 'name': '上海龙之梦万丽酒店', 'district': '上海市长宁区', 'adcode': '310105', 'location': '121.417157,31.218768', 'address': '长宁路1018号', 'typecode': '100102', 'city': []}\n",
      "{'id': 'B00156E507', 'name': '龙之梦购物中心停车场', 'district': '上海市长宁区', 'adcode': '310105', 'location': '121.415931,31.218884', 'address': '长宁路1018号', 'typecode': '150904', 'city': []}\n",
      "{'id': 'B00156F4OM', 'name': '龙之梦雅仕大厦', 'district': '上海市长宁区', 'adcode': '310105', 'location': '121.41606,31.21563', 'address': '凯旋路369号(近长宁路)', 'typecode': '120201', 'city': []}\n",
      "{'id': 'B00155KV3B', 'name': '凯德龙之梦停车场', 'district': '上海市虹口区', 'adcode': '310109', 'location': '121.478295,31.270648', 'address': '西江湾路388号虹口凯德龙之梦B座东南', 'typecode': '150904', 'city': []}\n",
      "{'id': 'B00155GG7I', 'name': '龙之梦影城(龙之梦购物中心)', 'district': '上海市长宁区', 'adcode': '310105', 'location': '121.416607,31.219565', 'address': '长宁路1018号龙之梦购物中心F9层', 'typecode': '080601', 'city': []}\n"
     ]
    }
   ],
   "source": [
    "for tip in json_data[\"tips\"]:\n",
    "    print(tip)"
   ]
  },
  {
   "cell_type": "code",
   "execution_count": null,
   "metadata": {},
   "outputs": [],
   "source": []
  }
 ],
 "metadata": {
  "kernelspec": {
   "display_name": "Python 3",
   "language": "python",
   "name": "python3"
  },
  "language_info": {
   "codemirror_mode": {
    "name": "ipython",
    "version": 3
   },
   "file_extension": ".py",
   "mimetype": "text/x-python",
   "name": "python",
   "nbconvert_exporter": "python",
   "pygments_lexer": "ipython3",
   "version": "3.6.8"
  }
 },
 "nbformat": 4,
 "nbformat_minor": 2
}
