{
 "cells": [
  {
   "cell_type": "code",
   "execution_count": 1,
   "metadata": {
    "scrolled": true
   },
   "outputs": [],
   "source": [
    "import utils"
   ]
  },
  {
   "cell_type": "code",
   "execution_count": 1,
   "metadata": {},
   "outputs": [
    {
     "ename": "NameError",
     "evalue": "name 'utils' is not defined",
     "output_type": "error",
     "traceback": [
      "\u001b[1;31m---------------------------------------------------------------------------\u001b[0m",
      "\u001b[1;31mNameError\u001b[0m                                 Traceback (most recent call last)",
      "\u001b[1;32m<ipython-input-1-f990a0f80d3d>\u001b[0m in \u001b[0;36m<module>\u001b[1;34m\u001b[0m\n\u001b[0;32m     25\u001b[0m \u001b[1;31m# 崇明区   310151  021\u001b[0m\u001b[1;33m\u001b[0m\u001b[1;33m\u001b[0m\u001b[1;33m\u001b[0m\u001b[0m\n\u001b[0;32m     26\u001b[0m \u001b[1;33m\u001b[0m\u001b[0m\n\u001b[1;32m---> 27\u001b[1;33m \u001b[0mPOI\u001b[0m \u001b[1;33m=\u001b[0m \u001b[0mutils\u001b[0m\u001b[1;33m.\u001b[0m\u001b[0mgetPOI\u001b[0m\u001b[1;33m(\u001b[0m\u001b[0mpoi_code\u001b[0m\u001b[1;33m=\u001b[0m\u001b[1;36m110202\u001b[0m\u001b[1;33m,\u001b[0m \u001b[0mad_code\u001b[0m\u001b[1;33m=\u001b[0m\u001b[1;36m310000\u001b[0m\u001b[1;33m)\u001b[0m\u001b[1;33m\u001b[0m\u001b[1;33m\u001b[0m\u001b[0m\n\u001b[0m",
      "\u001b[1;31mNameError\u001b[0m: name 'utils' is not defined"
     ]
    }
   ],
   "source": [
    "# 110000\t风景名胜\t风景名胜相关\t旅游景点\n",
    "# 110200\t风景名胜\t风景名胜\t风景名胜\n",
    "# 110201\t风景名胜\t风景名胜\t世界遗产\n",
    "# 110202\t风景名胜\t风景名胜\t国家级景点\n",
    "# 110203\t风景名胜\t风景名胜\t省级景点\n",
    "# 110208\t风景名胜\t风景名胜\t海滩\n",
    "\n",
    "# 上海市\t310000\t021\n",
    "# 上海市市辖区\t310100\t021\n",
    "# 黄浦区\t310101\t021\n",
    "# 徐汇区\t310104\t021\n",
    "# 长宁区\t310105\t021\n",
    "# 静安区\t310106\t021\n",
    "# 普陀区\t310107\t021\n",
    "# 虹口区\t310109\t021\n",
    "# 杨浦区\t310110\t021\n",
    "# 闵行区\t310112\t021\n",
    "# 宝山区\t310113\t021\n",
    "# 嘉定区\t310114\t021\n",
    "# 浦东新区\t310115\t021\n",
    "# 金山区\t310116\t021\n",
    "# 松江区\t310117\t021\n",
    "# 青浦区\t310118\t021\n",
    "# 奉贤区\t310120\t021\n",
    "# 崇明区\t310151\t021\n",
    "\n",
    "POI = utils.getPOI(poi_code=110202, ad_code=310000)"
   ]
  },
  {
   "cell_type": "code",
   "execution_count": null,
   "metadata": {},
   "outputs": [],
   "source": []
  }
 ],
 "metadata": {
  "kernelspec": {
   "display_name": "Python 3",
   "language": "python",
   "name": "python3"
  },
  "language_info": {
   "codemirror_mode": {
    "name": "ipython",
    "version": 3
   },
   "file_extension": ".py",
   "mimetype": "text/x-python",
   "name": "python",
   "nbconvert_exporter": "python",
   "pygments_lexer": "ipython3",
   "version": "3.6.8"
  }
 },
 "nbformat": 4,
 "nbformat_minor": 2
}
